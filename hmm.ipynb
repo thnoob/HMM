{
 "cells": [
  {
   "cell_type": "markdown",
   "metadata": {},
   "source": [
    "В ходе работы будут рассмотрены основные алгоритмы скрытых Марковсих моделей. \n",
    "Скрытая Марковская модель или кратко HMM формально может быть описана следующим образом.\n",
    "\n",
    "* Множество дискретных состояний $S = (S_1,S_2,... S_M)$\n",
    "* Соостояние в момент времени $t: q_t$ \n",
    "* Множество возможных сигналов $V = (V_1,V_2,... V_K)$\n",
    "* Матрица переходов $A$ из состояния  в состояние на мн-ве $S, A_{ij} = P(q_{t+1} = S_j | q_t = S_i)$\n",
    "* Матрица $B$ , которая содержит вероятности выдать сигнал в определенном состоянии \n",
    "    $B_{ij} = b_i(j) = P ( v_j | q_t = S_i )$\n",
    "* Наблюдаемая последовательность сигналов $O=(O_1,O_2,...,O_L)$\n",
    "* Вектор начального состояния $\\pi , \\pi_i = P(q_1 = S_i)$ \n",
    "* HMM Model  $\\lambda = \t(A,B, \\pi)$"
   ]
  },
  {
   "cell_type": "code",
   "execution_count": 1,
   "metadata": {},
   "outputs": [],
   "source": [
    "import numpy as np\n",
    "import pandas as pd\n",
    "import math"
   ]
  },
  {
   "cell_type": "code",
   "execution_count": 2,
   "metadata": {},
   "outputs": [
    {
     "name": "stdout",
     "output_type": "stream",
     "text": [
      "Введите количество состояний:6\n"
     ]
    }
   ],
   "source": [
    "M = int(input('Введите количество состояний:'))"
   ]
  },
  {
   "cell_type": "code",
   "execution_count": 3,
   "metadata": {},
   "outputs": [
    {
     "name": "stdout",
     "output_type": "stream",
     "text": [
      "Введите количество возможных сигналов:8\n"
     ]
    }
   ],
   "source": [
    "K = int(input('Введите количество возможных сигналов:'))"
   ]
  },
  {
   "cell_type": "code",
   "execution_count": 4,
   "metadata": {},
   "outputs": [
    {
     "name": "stdout",
     "output_type": "stream",
     "text": [
      "Введите длину наблюдаемой последовательности:10\n"
     ]
    }
   ],
   "source": [
    "L = int(input('Введите длину наблюдаемой последовательности:'))"
   ]
  },
  {
   "cell_type": "markdown",
   "metadata": {},
   "source": [
    "#### 1). Генерация параметров модели\n",
    "Сгенерируем матрицу переходов, матрицу эмиссий и вектор начального состояния."
   ]
  },
  {
   "cell_type": "code",
   "execution_count": 5,
   "metadata": {},
   "outputs": [],
   "source": [
    "## возвращает матрицу размера NxM с именами столбцов prefix1,prefix2\n",
    "def generate_random_probability_matrix(N, M, prefix1, prefix2):\n",
    "    matrix = pd.DataFrame(np.random.randint(0,10,size=(N, M))).add_prefix(prefix2).T.add_prefix(prefix1).T\n",
    "    matrix = matrix.div(matrix.sum(axis=1),axis=0)\n",
    "    return matrix\n",
    "\n",
    "A = generate_random_probability_matrix(M,M,'p','p')\n",
    "B = generate_random_probability_matrix(M,K,'p','e')\n",
    "pi = generate_random_probability_matrix(M,1,'p','')"
   ]
  },
  {
   "cell_type": "code",
   "execution_count": 6,
   "metadata": {},
   "outputs": [],
   "source": [
    "A = generate_random_probability_matrix(M,M,'p','p')\n",
    "B = generate_random_probability_matrix(M,K,'p','e')\n",
    "pi = generate_random_probability_matrix(1,M,'','p')"
   ]
  },
  {
   "cell_type": "markdown",
   "metadata": {},
   "source": [
    "И запишем сгенерированные значения в файлы A.csv, B.csv, pi.csv соответственно"
   ]
  },
  {
   "cell_type": "code",
   "execution_count": 7,
   "metadata": {},
   "outputs": [],
   "source": [
    "A.to_csv('A.csv',sep='\\t')\n",
    "B.to_csv('B.csv',sep='\\t')\n",
    "pi.to_csv('pi.csv',sep='\\t')"
   ]
  },
  {
   "cell_type": "markdown",
   "metadata": {},
   "source": [
    "#### 2). Прочитаем параметры модели из файлов "
   ]
  },
  {
   "cell_type": "code",
   "execution_count": 8,
   "metadata": {},
   "outputs": [],
   "source": [
    "class HMM(object):\n",
    "    def __init__(self, initialProb, transMatrix, emissionMatrix, M, K):\n",
    "        self.M = M\n",
    "        self.K = K\n",
    "        self.initialProb = initialProb\n",
    "        self.transMatrix = transMatrix\n",
    "        self.emissionMatrix = emissionMatrix\n",
    "        self.obs_set = ['p'+ str(i) for i in range(M)]\n",
    "        self.emm_set = ['e'+ str(i) for i in range(K)]"
   ]
  },
  {
   "cell_type": "code",
   "execution_count": 9,
   "metadata": {},
   "outputs": [],
   "source": [
    "A = pd.read_csv('A.csv',sep='\\t',index_col=0)\n",
    "B = pd.read_csv('B.csv',sep='\\t',index_col=0)\n",
    "pi = pd.read_csv('pi.csv',sep='\\t',index_col=0)\n",
    "\n",
    "hmm = HMM(pi,A,B,M,K)"
   ]
  },
  {
   "cell_type": "markdown",
   "metadata": {},
   "source": [
    "#### 3). Сгенерируем наблюдаемую последовательность сигналов и последовательность состояний"
   ]
  },
  {
   "cell_type": "code",
   "execution_count": 10,
   "metadata": {},
   "outputs": [
    {
     "data": {
      "text/plain": [
       "['e3', 'e2', 'e4', 'e1', 'e1', 'e1', 'e7', 'e2', 'e0', 'e3']"
      ]
     },
     "execution_count": 10,
     "metadata": {},
     "output_type": "execute_result"
    }
   ],
   "source": [
    "x = np.random.randint(0,K,size=L)\n",
    "O = ['e'+str(x[i]) for i in range(L)]\n",
    "O"
   ]
  },
  {
   "cell_type": "markdown",
   "metadata": {},
   "source": [
    "#### 4). Алгоритм Витерби.\n",
    "Используем алгоритм Витерби для нахождения наиболее вероятной последовательности состояний, соответствующей последовательности наблюдаемых сигналов. Учитываются параметры модели HMM."
   ]
  },
  {
   "cell_type": "code",
   "execution_count": 11,
   "metadata": {},
   "outputs": [],
   "source": [
    "def viterbiDecode(hmm, obs):\n",
    "    L = len(obs)\n",
    "    delta = pd.DataFrame(np.zeros((hmm.M, L))).add_prefix('t').T.add_prefix('p').T\n",
    "    backpt = pd.DataFrame([['' for i in range(L)] for j in range(hmm.M)]).add_prefix('t').T.add_prefix('p').T\n",
    "\n",
    "    #init\n",
    "    for i in hmm.obs_set:\n",
    "        delta.loc[i]['t0'] = hmm.initialProb[i]*hmm.emissionMatrix.loc[i][obs[0]]\n",
    "        backpt.loc[i]['t0'] = 'p0'\n",
    "        \n",
    "    #recursion\n",
    "    for t in range(1, L):\n",
    "        for j in hmm.obs_set:\n",
    "            v1 = []\n",
    "            v2 = []\n",
    "            for i in hmm.obs_set:\n",
    "                v1.append(delta.loc[i][t-1]*hmm.transMatrix.loc[i][j]*hmm.emissionMatrix.loc[j][obs[t]])\n",
    "                v2.append(delta.loc[i][t-1]*hmm.transMatrix.loc[i][j])\n",
    "            v1 = np.array(v1)\n",
    "            v2 = np.array(v2)\n",
    "            delta.loc[j][t] = v1.max(0)\n",
    "            backpt.loc[j][t] = 'p'+str(v2.argmax(0))\n",
    "        \n",
    "    # termination\n",
    "    ind_opt = ['' for i in range(L)]\n",
    "    p_opt = delta['t'+str(L-1)].max()\n",
    "    ind_opt[L-1] = (delta['t'+str(L-1)]).idxmax()\n",
    "\n",
    "    for t in range(L-2,-1, -1):\n",
    "        ind_opt[t] = backpt.loc[ind_opt[t+1]]['t'+str(t+1)]\n",
    "    \n",
    "    return ind_opt"
   ]
  },
  {
   "cell_type": "code",
   "execution_count": 12,
   "metadata": {},
   "outputs": [
    {
     "name": "stdout",
     "output_type": "stream",
     "text": [
      "['p0', 'p2', 'p1', 'p4', 'p4', 'p4', 'p0', 'p2', 'p1', 'p2']\n"
     ]
    }
   ],
   "source": [
    "print(viterbiDecode(hmm, O))"
   ]
  },
  {
   "cell_type": "markdown",
   "metadata": {},
   "source": [
    "#### 5). Алгоритм forward"
   ]
  },
  {
   "cell_type": "code",
   "execution_count": 13,
   "metadata": {},
   "outputs": [],
   "source": [
    "def forward(hmm, obs):\n",
    "    L = len(obs)\n",
    "    fwd = pd.DataFrame(np.zeros((hmm.M,L)),index=hmm.transMatrix.index)\n",
    "\n",
    "    for i in range(L):\n",
    "        for s in hmm.obs_set:\n",
    "            if i == 0:\n",
    "                prev_f_sum = hmm.initialProb[s]\n",
    "            else:\n",
    "                prev_f_sum = 0\n",
    "                for k_i,k in enumerate(hmm.obs_set):\n",
    "                    prev_f_sum += fwd[i-1][k_i]*hmm.transMatrix.loc[k][s]\n",
    "            fwd[i][s] =  prev_f_sum*hmm.emissionMatrix.loc[s][obs[i]]\n",
    "    return fwd\n",
    "\n",
    "def probability_fwd(fwd, obs):\n",
    "    L = len(obs)\n",
    "    return fwd[L-1].sum()"
   ]
  },
  {
   "cell_type": "code",
   "execution_count": 14,
   "metadata": {},
   "outputs": [
    {
     "data": {
      "text/html": [
       "<div>\n",
       "<style scoped>\n",
       "    .dataframe tbody tr th:only-of-type {\n",
       "        vertical-align: middle;\n",
       "    }\n",
       "\n",
       "    .dataframe tbody tr th {\n",
       "        vertical-align: top;\n",
       "    }\n",
       "\n",
       "    .dataframe thead th {\n",
       "        text-align: right;\n",
       "    }\n",
       "</style>\n",
       "<table border=\"1\" class=\"dataframe\">\n",
       "  <thead>\n",
       "    <tr style=\"text-align: right;\">\n",
       "      <th></th>\n",
       "      <th>0</th>\n",
       "      <th>1</th>\n",
       "      <th>2</th>\n",
       "      <th>3</th>\n",
       "      <th>4</th>\n",
       "      <th>5</th>\n",
       "      <th>6</th>\n",
       "      <th>7</th>\n",
       "      <th>8</th>\n",
       "      <th>9</th>\n",
       "    </tr>\n",
       "  </thead>\n",
       "  <tbody>\n",
       "    <tr>\n",
       "      <th>p0</th>\n",
       "      <td>0.028361</td>\n",
       "      <td>0.000467</td>\n",
       "      <td>0.000362</td>\n",
       "      <td>0.000021</td>\n",
       "      <td>2.687649e-06</td>\n",
       "      <td>2.775179e-07</td>\n",
       "      <td>7.201764e-08</td>\n",
       "      <td>4.670266e-10</td>\n",
       "      <td>6.543773e-10</td>\n",
       "      <td>1.772712e-10</td>\n",
       "    </tr>\n",
       "    <tr>\n",
       "      <th>p1</th>\n",
       "      <td>0.014286</td>\n",
       "      <td>0.003473</td>\n",
       "      <td>0.000217</td>\n",
       "      <td>0.000025</td>\n",
       "      <td>9.333748e-07</td>\n",
       "      <td>1.037935e-07</td>\n",
       "      <td>0.000000e+00</td>\n",
       "      <td>4.868595e-09</td>\n",
       "      <td>1.404782e-09</td>\n",
       "      <td>2.759677e-11</td>\n",
       "    </tr>\n",
       "    <tr>\n",
       "      <th>p2</th>\n",
       "      <td>0.011583</td>\n",
       "      <td>0.003647</td>\n",
       "      <td>0.000274</td>\n",
       "      <td>0.000000</td>\n",
       "      <td>0.000000e+00</td>\n",
       "      <td>0.000000e+00</td>\n",
       "      <td>1.841681e-08</td>\n",
       "      <td>5.881519e-09</td>\n",
       "      <td>6.968631e-10</td>\n",
       "      <td>8.591398e-11</td>\n",
       "    </tr>\n",
       "    <tr>\n",
       "      <th>p3</th>\n",
       "      <td>0.025641</td>\n",
       "      <td>0.001462</td>\n",
       "      <td>0.000119</td>\n",
       "      <td>0.000007</td>\n",
       "      <td>8.372784e-07</td>\n",
       "      <td>9.504857e-08</td>\n",
       "      <td>9.099632e-09</td>\n",
       "      <td>3.415832e-09</td>\n",
       "      <td>3.267965e-10</td>\n",
       "      <td>4.876053e-11</td>\n",
       "    </tr>\n",
       "    <tr>\n",
       "      <th>p4</th>\n",
       "      <td>0.000000</td>\n",
       "      <td>0.001546</td>\n",
       "      <td>0.000246</td>\n",
       "      <td>0.000076</td>\n",
       "      <td>8.476176e-06</td>\n",
       "      <td>8.007130e-07</td>\n",
       "      <td>9.801318e-09</td>\n",
       "      <td>2.878273e-09</td>\n",
       "      <td>5.517026e-10</td>\n",
       "      <td>0.000000e+00</td>\n",
       "    </tr>\n",
       "    <tr>\n",
       "      <th>p5</th>\n",
       "      <td>0.013120</td>\n",
       "      <td>0.001937</td>\n",
       "      <td>0.000213</td>\n",
       "      <td>0.000000</td>\n",
       "      <td>0.000000e+00</td>\n",
       "      <td>0.000000e+00</td>\n",
       "      <td>4.271663e-08</td>\n",
       "      <td>4.428454e-09</td>\n",
       "      <td>0.000000e+00</td>\n",
       "      <td>9.049996e-11</td>\n",
       "    </tr>\n",
       "  </tbody>\n",
       "</table>\n",
       "</div>"
      ],
      "text/plain": [
       "           0         1         2         3             4             5  \\\n",
       "p0  0.028361  0.000467  0.000362  0.000021  2.687649e-06  2.775179e-07   \n",
       "p1  0.014286  0.003473  0.000217  0.000025  9.333748e-07  1.037935e-07   \n",
       "p2  0.011583  0.003647  0.000274  0.000000  0.000000e+00  0.000000e+00   \n",
       "p3  0.025641  0.001462  0.000119  0.000007  8.372784e-07  9.504857e-08   \n",
       "p4  0.000000  0.001546  0.000246  0.000076  8.476176e-06  8.007130e-07   \n",
       "p5  0.013120  0.001937  0.000213  0.000000  0.000000e+00  0.000000e+00   \n",
       "\n",
       "               6             7             8             9  \n",
       "p0  7.201764e-08  4.670266e-10  6.543773e-10  1.772712e-10  \n",
       "p1  0.000000e+00  4.868595e-09  1.404782e-09  2.759677e-11  \n",
       "p2  1.841681e-08  5.881519e-09  6.968631e-10  8.591398e-11  \n",
       "p3  9.099632e-09  3.415832e-09  3.267965e-10  4.876053e-11  \n",
       "p4  9.801318e-09  2.878273e-09  5.517026e-10  0.000000e+00  \n",
       "p5  4.271663e-08  4.428454e-09  0.000000e+00  9.049996e-11  "
      ]
     },
     "execution_count": 14,
     "metadata": {},
     "output_type": "execute_result"
    }
   ],
   "source": [
    "obs = O\n",
    "fwd = forward(hmm, obs)\n",
    "fwd"
   ]
  },
  {
   "cell_type": "code",
   "execution_count": 15,
   "metadata": {},
   "outputs": [
    {
     "data": {
      "text/plain": [
       "4.30042456759849e-10"
      ]
     },
     "execution_count": 15,
     "metadata": {},
     "output_type": "execute_result"
    }
   ],
   "source": [
    "probability_fwd(fwd, obs)"
   ]
  },
  {
   "cell_type": "markdown",
   "metadata": {},
   "source": [
    "#### 6). Алгоритм backward"
   ]
  },
  {
   "cell_type": "code",
   "execution_count": 16,
   "metadata": {},
   "outputs": [],
   "source": [
    "def backward(hmm, obs):\n",
    "    L = len(obs)\n",
    "    bwd = pd.DataFrame(np.zeros((hmm.M,L)),index=hmm.transMatrix.index)\n",
    "    for i in range(L-1,-1,-1):\n",
    "        for s in hmm.obs_set:\n",
    "            if i == L-1:\n",
    "                b_sum = 1\n",
    "            else:\n",
    "                b_sum = 0\n",
    "                for k_i,k in enumerate(hmm.obs_set):\n",
    "                    b_sum += hmm.transMatrix.loc[s][k]*hmm.emissionMatrix.loc[k][obs[i]]*bwd[i+1][s]\n",
    "            bwd[i][s] = b_sum\n",
    "    return bwd\n",
    "\n",
    "def probability_bwd(bwd, hmm, obs):\n",
    "    prob = 0\n",
    "    for s in hmm.obs_set:\n",
    "        prob += bwd[0][s]*hmm.initialProb[s]*hmm.emissionMatrix.loc[s][obs[0]]\n",
    "    return prob[0]"
   ]
  },
  {
   "cell_type": "code",
   "execution_count": 17,
   "metadata": {},
   "outputs": [
    {
     "name": "stdout",
     "output_type": "stream",
     "text": [
      "               0             1             2         3         4         5  \\\n",
      "p0  2.256196e-09  2.440179e-08  1.586943e-07  0.000001  0.000017  0.000209   \n",
      "p1  4.090724e-09  4.322734e-08  3.362342e-07  0.000003  0.000027  0.000253   \n",
      "p2  2.367663e-09  1.609846e-08  1.191044e-07  0.000001  0.000014  0.000184   \n",
      "p3  3.502611e-09  2.448582e-08  2.197420e-07  0.000002  0.000021  0.000243   \n",
      "p4  3.996069e-09  2.523553e-08  2.169017e-07  0.000002  0.000018  0.000175   \n",
      "p5  2.859856e-09  2.653060e-08  1.821360e-07  0.000002  0.000018  0.000198   \n",
      "\n",
      "           6         7         8    9  \n",
      "p0  0.002536  0.029696  0.193127  1.0  \n",
      "p1  0.002390  0.021829  0.169795  1.0  \n",
      "p2  0.002412  0.021805  0.161323  1.0  \n",
      "p3  0.002805  0.025516  0.228989  1.0  \n",
      "p4  0.001679  0.012622  0.108489  1.0  \n",
      "p5  0.002153  0.022183  0.152287  1.0  \n"
     ]
    }
   ],
   "source": [
    "bwd = backward(hmm, obs)\n",
    "print(bwd)"
   ]
  },
  {
   "cell_type": "code",
   "execution_count": 18,
   "metadata": {},
   "outputs": [
    {
     "name": "stdout",
     "output_type": "stream",
     "text": [
      "2.771828592668726e-10\n"
     ]
    }
   ],
   "source": [
    "print(probability_bwd(bwd, hmm, obs))"
   ]
  },
  {
   "cell_type": "markdown",
   "metadata": {},
   "source": [
    "#### 7). Постериорные вероятности"
   ]
  },
  {
   "cell_type": "code",
   "execution_count": 22,
   "metadata": {},
   "outputs": [],
   "source": [
    "def prob_posterior(hmm, obs):\n",
    "    fwd = forward(hmm, obs)\n",
    "    bwd = backward(hmm, obs)\n",
    "    pr = probability_fwd(fwd, obs)\n",
    "    posterior = fwd.mul(bwd).div(pr)\n",
    "    return posterior.div(posterior.sum())"
   ]
  },
  {
   "cell_type": "code",
   "execution_count": 23,
   "metadata": {},
   "outputs": [
    {
     "data": {
      "text/html": [
       "<div>\n",
       "<style scoped>\n",
       "    .dataframe tbody tr th:only-of-type {\n",
       "        vertical-align: middle;\n",
       "    }\n",
       "\n",
       "    .dataframe tbody tr th {\n",
       "        vertical-align: top;\n",
       "    }\n",
       "\n",
       "    .dataframe thead th {\n",
       "        text-align: right;\n",
       "    }\n",
       "</style>\n",
       "<table border=\"1\" class=\"dataframe\">\n",
       "  <thead>\n",
       "    <tr style=\"text-align: right;\">\n",
       "      <th></th>\n",
       "      <th>0</th>\n",
       "      <th>1</th>\n",
       "      <th>2</th>\n",
       "      <th>3</th>\n",
       "      <th>4</th>\n",
       "      <th>5</th>\n",
       "      <th>6</th>\n",
       "      <th>7</th>\n",
       "      <th>8</th>\n",
       "      <th>9</th>\n",
       "    </tr>\n",
       "  </thead>\n",
       "  <tbody>\n",
       "    <tr>\n",
       "      <th>p0</th>\n",
       "      <td>0.230854</td>\n",
       "      <td>0.032886</td>\n",
       "      <td>0.204178</td>\n",
       "      <td>0.115227</td>\n",
       "      <td>0.189969</td>\n",
       "      <td>0.234268</td>\n",
       "      <td>0.505855</td>\n",
       "      <td>0.029501</td>\n",
       "      <td>0.206497</td>\n",
       "      <td>0.412218</td>\n",
       "    </tr>\n",
       "    <tr>\n",
       "      <th>p1</th>\n",
       "      <td>0.210832</td>\n",
       "      <td>0.433350</td>\n",
       "      <td>0.258873</td>\n",
       "      <td>0.276206</td>\n",
       "      <td>0.102270</td>\n",
       "      <td>0.105900</td>\n",
       "      <td>0.000000</td>\n",
       "      <td>0.226069</td>\n",
       "      <td>0.389741</td>\n",
       "      <td>0.064172</td>\n",
       "    </tr>\n",
       "    <tr>\n",
       "      <th>p2</th>\n",
       "      <td>0.098941</td>\n",
       "      <td>0.169475</td>\n",
       "      <td>0.115895</td>\n",
       "      <td>0.000000</td>\n",
       "      <td>0.000000</td>\n",
       "      <td>0.000000</td>\n",
       "      <td>0.123044</td>\n",
       "      <td>0.272794</td>\n",
       "      <td>0.183689</td>\n",
       "      <td>0.199780</td>\n",
       "    </tr>\n",
       "    <tr>\n",
       "      <th>p3</th>\n",
       "      <td>0.324012</td>\n",
       "      <td>0.103318</td>\n",
       "      <td>0.093230</td>\n",
       "      <td>0.051719</td>\n",
       "      <td>0.072396</td>\n",
       "      <td>0.093343</td>\n",
       "      <td>0.070714</td>\n",
       "      <td>0.185399</td>\n",
       "      <td>0.122274</td>\n",
       "      <td>0.113385</td>\n",
       "    </tr>\n",
       "    <tr>\n",
       "      <th>p4</th>\n",
       "      <td>0.000000</td>\n",
       "      <td>0.112600</td>\n",
       "      <td>0.189994</td>\n",
       "      <td>0.556848</td>\n",
       "      <td>0.635365</td>\n",
       "      <td>0.566490</td>\n",
       "      <td>0.045598</td>\n",
       "      <td>0.077279</td>\n",
       "      <td>0.097798</td>\n",
       "      <td>0.000000</td>\n",
       "    </tr>\n",
       "    <tr>\n",
       "      <th>p5</th>\n",
       "      <td>0.135362</td>\n",
       "      <td>0.148370</td>\n",
       "      <td>0.137831</td>\n",
       "      <td>0.000000</td>\n",
       "      <td>0.000000</td>\n",
       "      <td>0.000000</td>\n",
       "      <td>0.254788</td>\n",
       "      <td>0.208958</td>\n",
       "      <td>0.000000</td>\n",
       "      <td>0.210444</td>\n",
       "    </tr>\n",
       "  </tbody>\n",
       "</table>\n",
       "</div>"
      ],
      "text/plain": [
       "           0         1         2         3         4         5         6  \\\n",
       "p0  0.230854  0.032886  0.204178  0.115227  0.189969  0.234268  0.505855   \n",
       "p1  0.210832  0.433350  0.258873  0.276206  0.102270  0.105900  0.000000   \n",
       "p2  0.098941  0.169475  0.115895  0.000000  0.000000  0.000000  0.123044   \n",
       "p3  0.324012  0.103318  0.093230  0.051719  0.072396  0.093343  0.070714   \n",
       "p4  0.000000  0.112600  0.189994  0.556848  0.635365  0.566490  0.045598   \n",
       "p5  0.135362  0.148370  0.137831  0.000000  0.000000  0.000000  0.254788   \n",
       "\n",
       "           7         8         9  \n",
       "p0  0.029501  0.206497  0.412218  \n",
       "p1  0.226069  0.389741  0.064172  \n",
       "p2  0.272794  0.183689  0.199780  \n",
       "p3  0.185399  0.122274  0.113385  \n",
       "p4  0.077279  0.097798  0.000000  \n",
       "p5  0.208958  0.000000  0.210444  "
      ]
     },
     "execution_count": 23,
     "metadata": {},
     "output_type": "execute_result"
    }
   ],
   "source": [
    "prob_posterior(hmm, obs)"
   ]
  },
  {
   "cell_type": "code",
   "execution_count": null,
   "metadata": {},
   "outputs": [],
   "source": []
  }
 ],
 "metadata": {
  "kernelspec": {
   "display_name": "Python 3",
   "language": "python",
   "name": "python3"
  },
  "language_info": {
   "codemirror_mode": {
    "name": "ipython",
    "version": 3
   },
   "file_extension": ".py",
   "mimetype": "text/x-python",
   "name": "python",
   "nbconvert_exporter": "python",
   "pygments_lexer": "ipython3",
   "version": "3.6.5"
  }
 },
 "nbformat": 4,
 "nbformat_minor": 2
}
